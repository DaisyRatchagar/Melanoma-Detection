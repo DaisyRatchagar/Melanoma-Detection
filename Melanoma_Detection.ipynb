{
  "cells": [
    {
      "cell_type": "code",
      "execution_count": null,
      "id": "ed254310-be65-42ac-b176-81ea30398b52",
      "metadata": {
        "id": "ed254310-be65-42ac-b176-81ea30398b52",
        "outputId": "3b2858cc-3db1-4638-bcc0-fee38aca6391"
      },
      "outputs": [
        {
          "name": "stdout",
          "output_type": "stream",
          "text": [
            "Accuracy: 0.9555555555555556\n"
          ]
        }
      ],
      "source": [
        "from sklearn.datasets import load_iris\n",
        "import pandas as pd\n",
        "from sklearn.model_selection import train_test_split\n",
        "from sklearn.linear_model import LogisticRegression\n",
        "from sklearn.metrics import accuracy_score\n",
        "\n",
        "# Load the Iris dataset\n",
        "data = pd.read_csv(\"hmnist_8_8_RGB.csv\")\n",
        "data.head()\n",
        "\n",
        "# Split the data into training and testing sets\n",
        "X_train, X_test, y_train, y_test = train_test_split(X, y, test_size=0.3, random_state=48)\n",
        "\n",
        "# Initialize the logistic regression model\n",
        "logistic_reg = LogisticRegression()\n",
        "\n",
        "# Fit the model on the training data\n",
        "logistic_reg.fit(X_train, y_train)\n",
        "\n",
        "# Predict on the testing data\n",
        "y_pred = logistic_reg.predict(X_test)\n",
        "\n",
        "# Calculate accuracy\n",
        "accuracy = accuracy_score(y_test, y_pred)\n",
        "\n",
        "print(\"Accuracy:\", accuracy)"
      ]
    },
    {
      "cell_type": "code",
      "execution_count": null,
      "id": "e361037d-6f63-4b82-a955-f6cef64d86d3",
      "metadata": {
        "id": "e361037d-6f63-4b82-a955-f6cef64d86d3",
        "outputId": "4fa7c1c1-155a-401a-d790-257775c89f6b"
      },
      "outputs": [
        {
          "name": "stdout",
          "output_type": "stream",
          "text": [
            "Decision Tree Classifier:\n",
            "Accuracy: 0.6049649217485159\n",
            "Classification Report:\n",
            "               precision    recall  f1-score   support\n",
            "\n",
            "           0       0.21      0.19      0.20       122\n",
            "           1       0.21      0.24      0.23       192\n",
            "           2       0.25      0.24      0.25       412\n",
            "           3       0.05      0.09      0.07        32\n",
            "           4       0.78      0.80      0.79      2451\n",
            "           5       0.13      0.13      0.13        53\n",
            "           6       0.29      0.25      0.27       444\n",
            "\n",
            "    accuracy                           0.60      3706\n",
            "   macro avg       0.28      0.28      0.27      3706\n",
            "weighted avg       0.60      0.60      0.60      3706\n",
            "\n",
            "\n",
            "Random Forest Classifier:\n",
            "Accuracy: 0.7077711818672423\n",
            "Classification Report:\n",
            "               precision    recall  f1-score   support\n",
            "\n",
            "           0       0.68      0.14      0.23       122\n",
            "           1       0.51      0.26      0.34       192\n",
            "           2       0.50      0.32      0.39       412\n",
            "           3       0.00      0.00      0.00        32\n",
            "           4       0.74      0.97      0.84      2451\n",
            "           5       0.00      0.00      0.00        53\n",
            "           6       0.52      0.10      0.17       444\n",
            "\n",
            "    accuracy                           0.71      3706\n",
            "   macro avg       0.42      0.26      0.28      3706\n",
            "weighted avg       0.65      0.71      0.64      3706\n",
            "\n"
          ]
        },
        {
          "name": "stderr",
          "output_type": "stream",
          "text": [
            "C:\\Users\\SASTRA CHENNAI 10\\anaconda3\\Lib\\site-packages\\sklearn\\metrics\\_classification.py:1344: UndefinedMetricWarning: Precision and F-score are ill-defined and being set to 0.0 in labels with no predicted samples. Use `zero_division` parameter to control this behavior.\n",
            "  _warn_prf(average, modifier, msg_start, len(result))\n",
            "C:\\Users\\SASTRA CHENNAI 10\\anaconda3\\Lib\\site-packages\\sklearn\\metrics\\_classification.py:1344: UndefinedMetricWarning: Precision and F-score are ill-defined and being set to 0.0 in labels with no predicted samples. Use `zero_division` parameter to control this behavior.\n",
            "  _warn_prf(average, modifier, msg_start, len(result))\n",
            "C:\\Users\\SASTRA CHENNAI 10\\anaconda3\\Lib\\site-packages\\sklearn\\metrics\\_classification.py:1344: UndefinedMetricWarning: Precision and F-score are ill-defined and being set to 0.0 in labels with no predicted samples. Use `zero_division` parameter to control this behavior.\n",
            "  _warn_prf(average, modifier, msg_start, len(result))\n"
          ]
        }
      ],
      "source": [
        "import numpy as np\n",
        "from sklearn.model_selection import train_test_split\n",
        "from sklearn.tree import DecisionTreeClassifier\n",
        "from sklearn.ensemble import RandomForestClassifier\n",
        "from sklearn.metrics import accuracy_score, classification_report\n",
        "import pandas as pd\n",
        "from sklearn.preprocessing import LabelEncoder\n",
        "# Load the digits dataset\n",
        "data = pd.read_csv('hmnist_8_8_RGB.csv')\n",
        "label_encoders = {}\n",
        "data = data.dropna()\n",
        "# Encode categorical columns\n",
        "for col in data.columns:\n",
        "    if data[col].dtype == 'object':\n",
        "        le = LabelEncoder()\n",
        "        data[col] = le.fit_transform(data[col])\n",
        "        label_encoders[col] = le\n",
        "x=data.drop('label',axis=1)\n",
        "y=data['label']\n",
        "# Split the dataset into training and testing sets\n",
        "X_train, X_test, y_train, y_test = train_test_split(x, y,\n",
        "test_size=0.37, random_state=49)\n",
        "# Decision Tree Classifier\n",
        "decision_tree = DecisionTreeClassifier(random_state=42)\n",
        "decision_tree.fit(X_train, y_train)\n",
        "# Random Forest Classifier\n",
        "random_forest = RandomForestClassifier(n_estimators=100,\n",
        "random_state=42)\n",
        "random_forest.fit(X_train, y_train)\n",
        "# Predictions\n",
        "y_pred_dt = decision_tree.predict(X_test)\n",
        "y_pred_rf = random_forest.predict(X_test)\n",
        "# Evaluate Decision Tree Classifier\n",
        "print(\"Decision Tree Classifier:\")\n",
        "print(\"Accuracy:\", accuracy_score(y_test, y_pred_dt))\n",
        "print(\"Classification Report:\\n\", classification_report(y_test,\n",
        "y_pred_dt))\n",
        "\n",
        "# Evaluate Random Forest Classifier\n",
        "print(\"\\nRandom Forest Classifier:\")\n",
        "print(\"Accuracy:\", accuracy_score(y_test, y_pred_rf))\n",
        "print(\"Classification Report:\\n\", classification_report(y_test,\n",
        "y_pred_rf))"
      ]
    },
    {
      "cell_type": "code",
      "execution_count": null,
      "id": "aa366ce4-46ee-4bf6-a754-353caa4d0e2e",
      "metadata": {
        "id": "aa366ce4-46ee-4bf6-a754-353caa4d0e2e",
        "outputId": "1efe49c9-10f4-48b3-a826-a3ccd7c8cfa9"
      },
      "outputs": [
        {
          "name": "stdout",
          "output_type": "stream",
          "text": [
            "Accuracy: 0.7117516629711752\n"
          ]
        }
      ],
      "source": [
        "from sklearn.datasets import load_iris\n",
        "from sklearn.model_selection import train_test_split\n",
        "from sklearn.neighbors import KNeighborsClassifier\n",
        "from sklearn.metrics import accuracy_score\n",
        "import pandas as pd\n",
        "\n",
        "\n",
        "# Load the dataset\n",
        "data = pd.read_csv(\"hmnist_8_8_RGB.csv\")\n",
        "\n",
        "# Separate features (X) and target (y)\n",
        "X = data.drop(columns=[\"label\"])  # Exclude the 'label' column\n",
        "y = data[\"label\"]\n",
        "\n",
        "\n",
        "# Split the data into training and testing sets\n",
        "X_train, X_test, y_train, y_test = train_test_split(X, y, test_size=0.09, random_state=52)\n",
        "\n",
        "# Initialize the KNN classifier\n",
        "knn = KNeighborsClassifier()\n",
        "\n",
        "# Fit the model on the training data\n",
        "knn.fit(X_train, y_train)\n",
        "\n",
        "# Predict on the testing data\n",
        "y_pred = knn.predict(X_test)\n",
        "\n",
        "# Calculate accuracy\n",
        "accuracy = accuracy_score(y_test, y_pred)\n",
        "\n",
        "print(\"Accuracy:\", accuracy)"
      ]
    },
    {
      "cell_type": "code",
      "execution_count": null,
      "id": "1b1646d2-5220-4570-aa42-28c7781d78a9",
      "metadata": {
        "id": "1b1646d2-5220-4570-aa42-28c7781d78a9",
        "outputId": "a13a784c-f2f3-474c-eed6-525f8b4daa69"
      },
      "outputs": [
        {
          "name": "stdout",
          "output_type": "stream",
          "text": [
            "Accuracy: 0.710434348477284\n"
          ]
        }
      ],
      "source": [
        "from sklearn import datasets\n",
        "from sklearn.model_selection import train_test_split\n",
        "from sklearn.svm import SVC\n",
        "from sklearn.metrics import accuracy_score\n",
        "import pandas as pd\n",
        "\n",
        "\n",
        "# Load the dataset\n",
        "data = pd.read_csv(\"hmnist_8_8_RGB.csv\")\n",
        "\n",
        "# Separate features (X) and target (y)\n",
        "X = data.drop(columns=[\"label\"])  # Exclude the 'label' column\n",
        "y = data[\"label\"]\n",
        "\n",
        "\n",
        "# Split the dataset into training and testing sets\n",
        "X_train, X_test, y_train, y_test = train_test_split(X, y, test_size=0.2, random_state=42)\n",
        "\n",
        "# Initialize SVM classifier\n",
        "svm_classifier = SVC()\n",
        "\n",
        "# Train the classifier\n",
        "svm_classifier.fit(X_train, y_train)\n",
        "\n",
        "# Predict on the test data\n",
        "y_pred = svm_classifier.predict(X_test)\n",
        "\n",
        "# Calculate accuracy\n",
        "accuracy = accuracy_score(y_test, y_pred)\n",
        "\n",
        "print(\"Accuracy:\", accuracy)"
      ]
    }
  ],
  "metadata": {
    "kernelspec": {
      "display_name": "Python 3 (ipykernel)",
      "language": "python",
      "name": "python3"
    },
    "language_info": {
      "codemirror_mode": {
        "name": "ipython",
        "version": 3
      },
      "file_extension": ".py",
      "mimetype": "text/x-python",
      "name": "python",
      "nbconvert_exporter": "python",
      "pygments_lexer": "ipython3",
      "version": "3.11.7"
    },
    "colab": {
      "provenance": []
    }
  },
  "nbformat": 4,
  "nbformat_minor": 5
}